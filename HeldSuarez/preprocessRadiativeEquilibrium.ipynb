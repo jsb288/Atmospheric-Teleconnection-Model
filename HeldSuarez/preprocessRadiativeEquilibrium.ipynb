{
 "cells": [
  {
   "cell_type": "code",
   "execution_count": null,
   "metadata": {},
   "outputs": [],
   "source": [
    "import torch\n",
    "import torch_harmonics.distributed as dist\n",
    "import torch_harmonics as th\n",
    "import xarray as xr\n",
    "import numpy as np\n",
    "import xesmf as xe\n",
    "import pandas as pd\n",
    "import matplotlib.pyplot as plt\n",
    "import matplotlib.colors as colors\n",
    "from subs1_utils import precompute_latitudes, bscst\n",
    "\n",
    "import warnings\n",
    "warnings.filterwarnings(\"ignore\")\n",
    "\n",
    "cmap = 'turbo'"
   ]
  },
  {
   "cell_type": "code",
   "execution_count": null,
   "metadata": {},
   "outputs": [],
   "source": [
    "### Define Spectral Truncation Desired and Consistent\n",
    "###    Gausian Grid\n",
    "zw = 63\n",
    "mw = 63\n",
    "jmax = 96\n",
    "imax = 192\n",
    "#\n",
    "# Since the this is an annual cycle simulation the preprocessed data is relatively large and is saved on a data disk\n",
    "#\n",
    "outpath = '/raid6C/kirtman/AGCM/HeldSuarez/'\n",
    "#\n",
    "###\n",
    "###\n",
    "###\n",
    "###\n",
    "# Setup necessary element for interpolation onto model Gaussian Grid\n",
    "# Get the Gaussian latitudes on equally spaced longitudes (xr.dataset)\n",
    "cost_lg, wlg, lats = precompute_latitudes(jmax)\n",
    "lats = 90-180*lats/(np.pi)\n",
    "lons = np.linspace(0.0,360.0-360.0/imax,imax)\n",
    "dlatlon = xr.Dataset({\"lat\": lats, \"lon\": lons})\n",
    "\n",
    "# Instantiate  grid to spectral (dsht) and spectral to grid (disht) transforms\n",
    "#\n",
    "vsht = th.RealVectorSHT(jmax, imax, lmax=mw, mmax=zw, grid=\"legendre-gauss\", csphase=False)\n",
    "dsht = dist.DistributedRealSHT(jmax, imax, lmax=mw, mmax=zw, grid=\"legendre-gauss\", csphase=False)\n",
    "disht = dist.DistributedInverseRealSHT(jmax, imax, lmax=mw, mmax=zw, grid=\"legendre-gauss\", csphase=False)\n",
    "dvsht = dist.DistributedRealVectorSHT(jmax, imax, lmax=mw, mmax=zw, grid=\"legendre-gauss\", csphase=False)\n",
    "divsht = dist.DistributedInverseRealVectorSHT(jmax, imax, lmax=mw, mmax=zw, grid=\"legendre-gauss\", csphase=False)"
   ]
  },
  {
   "cell_type": "code",
   "execution_count": null,
   "metadata": {},
   "outputs": [],
   "source": [
    "### Grab Topography Data\n",
    "###\n",
    "url_topo = 'http://research.jisao.washington.edu/data_sets/elevation/elev.0.75-deg.nc'\n",
    "ds_topo = xr.open_dataset(url_topo + '#mode=bytes', decode_times = False) # adding #mode=bytes because netcdf4 non-opendap URLrequeriment\n",
    "del ds_topo['time']\n",
    "data = ds_topo.data.squeeze()\n",
    "data"
   ]
  },
  {
   "cell_type": "code",
   "execution_count": null,
   "metadata": {},
   "outputs": [],
   "source": [
    "lon = np.linspace(-np.pi, np.pi, data.shape[1])\n",
    "lat = np.linspace(np.pi/2., -np.pi/2., data.shape[0])\n",
    "Lon, Lat = np.meshgrid(lon, lat)\n",
    "\n",
    "fig = plt.figure(figsize=(10, 5))\n",
    "ax = fig.add_subplot(1, 1, 1, projection='mollweide')\n",
    "cs = ax.pcolormesh(Lon, Lat, data, cmap=cmap)\n",
    "ax.set_title(\"Elevation map 0.75◦\")\n",
    "ax.grid(True)\n",
    "ax.set_xticklabels([])\n",
    "ax.set_yticklabels([])\n",
    "fig.colorbar(cs, ax=ax, shrink=0.75)\n",
    "plt.show()"
   ]
  },
  {
   "cell_type": "code",
   "execution_count": null,
   "metadata": {},
   "outputs": [],
   "source": [
    "regridder_topog = xe.Regridder(data, dlatlon,'bilinear')"
   ]
  },
  {
   "cell_type": "code",
   "execution_count": null,
   "metadata": {},
   "outputs": [],
   "source": [
    "topog_gg = regridder_topog(data)*9.8"
   ]
  },
  {
   "cell_type": "code",
   "execution_count": null,
   "metadata": {},
   "outputs": [],
   "source": [
    "topog_gg_dev = torch.from_numpy(np.where(topog_gg < 0.0, 0.0, topog_gg))\n",
    "coeffs = dsht(topog_gg_dev)\n",
    "topog_gg_r = disht(coeffs)"
   ]
  },
  {
   "cell_type": "code",
   "execution_count": null,
   "metadata": {},
   "outputs": [],
   "source": [
    "# Write out the spectral coefficients for topography to be read by\n",
    "# the AGCM as a pickle file\n",
    "#\n",
    "torch.save(coeffs,outpath+'topog.spectral.pt')"
   ]
  },
  {
   "cell_type": "code",
   "execution_count": null,
   "metadata": {},
   "outputs": [],
   "source": [
    "#\n",
    "# Now generature the vertical strucuture of temperature\n",
    "# will neeed model vertical structure (si(kmax))\n",
    "#\n",
    "from subs1_utils import *\n",
    "#\n",
    "kmax = 26\n",
    "delsig, si, sl, sikap, slkap, cth1, cth2, r1b, r2b = bscst(kmax)\n",
    "#\n",
    "#\n",
    "temp_spec = torch.from_numpy(np.zeros((12,kmax,zw,mw)))\n",
    "temp_gg = np.zeros((12,kmax,jmax,imax))\n",
    "#\n",
    "#   Radiative equilibrium temperature\n",
    "#       varying surface temperature decreasing with\n",
    "#       height with a lapse rate dTe/dz approx = -rlaps degrees/m\n",
    "#       to a stratospheric temperature of tstrat\n",
    "#\n",
    "rlaps=6.8*1.0e-03\n",
    "h0 = 8.2e+03\n",
    "tstrat = 205.0 # fixed stratospheric temperature\n",
    "deltemp = 60.0 # pole_to_equator temperature difference\n",
    "deltheta = 10.0\n",
    "kappa = 2.0/7.0\n",
    "#\n",
    "# Set Radiative Temperature Profile here. Need to use topography to reduce temperature based on altitude\n",
    "#\n",
    "# Calculate the radiative surface temperature as a function of latitude\n",
    "#\n",
    "temp_gg = np.zeros((kmax,jmax,imax))\n",
    "sinlat = np.sin(lats*np.pi/180.0)\n",
    "coslat = np.cos(lats*np.pi/180.0)\n",
    "#\n",
    "for j in range(jmax):\n",
    "    for k in range(kmax):\n",
    "        temp_gg[k,j,:] = (315.0 - deltemp*sinlat[j]*sinlat[j]-\\\n",
    "        deltheta*np.log(sl[k])*coslat[j]*coslat[j])*(sl[k]**kappa)\n",
    "#\n",
    "#\n",
    "temp_gg = np.where(temp_gg < 200.0, 200.0, temp_gg)"
   ]
  },
  {
   "cell_type": "code",
   "execution_count": null,
   "metadata": {},
   "outputs": [],
   "source": [
    "Lon, Lat = np.meshgrid(lons, lats)\n",
    "plt.pcolormesh(Lon, Lat, temp_gg[kmax-1,:,:], cmap='bwr')\n",
    "plt.colorbar()"
   ]
  },
  {
   "cell_type": "code",
   "execution_count": null,
   "metadata": {},
   "outputs": [],
   "source": [
    "Lon, Zlev = np.meshgrid(lons, sl)\n",
    "plt.pcolormesh(Lon, Zlev, temp_gg[:,48,:], cmap='bwr')\n",
    "plt.colorbar()"
   ]
  },
  {
   "cell_type": "code",
   "execution_count": null,
   "metadata": {},
   "outputs": [],
   "source": [
    "Lat, Zlev = np.meshgrid(lats, -sl)\n",
    "plt.pcolormesh(Lat, Zlev, temp_gg[:,:,96], cmap='bwr')\n",
    "plt.colorbar()"
   ]
  },
  {
   "cell_type": "code",
   "execution_count": null,
   "metadata": {},
   "outputs": [],
   "source": [
    "#\n",
    "temp_coeffs = dsht(torch.from_numpy(temp_gg))"
   ]
  },
  {
   "cell_type": "code",
   "execution_count": null,
   "metadata": {},
   "outputs": [],
   "source": [
    "torch.save(temp_coeffs,outpath+'temp.spectral_RadiativeEquilibrium.pt')\n",
    "torch.save(temp_gg,outpath+'temp.ggrid_RadiativeEquilibrium.pt')"
   ]
  },
  {
   "cell_type": "code",
   "execution_count": null,
   "metadata": {},
   "outputs": [],
   "source": [
    "ps = np.zeros((jmax,imax))\n",
    "lnps_coeffs = dsht(torch.from_numpy(ps))\n",
    "torch.save(lnps_coeffs,outpath+'lnps.spectral_RadiativeEquilibrium.pt')\n",
    "print(['global mean lnps',lnps_coeffs[0,0]])"
   ]
  },
  {
   "cell_type": "code",
   "execution_count": null,
   "metadata": {},
   "outputs": [],
   "source": [
    "lnps_coeffs"
   ]
  },
  {
   "cell_type": "code",
   "execution_count": null,
   "metadata": {},
   "outputs": [],
   "source": [
    "##\n",
    "## Following Held & Suarez the Newtonian Damping Coefficients are latitudinally\n",
    "## Dependent. Here we produce those coeffiencients and convert into spectral form\n",
    "##\n",
    "ka = 1.0/(40.0*86400.0)\n",
    "ks = 1/(4.0*86400.0)\n",
    "slb = 0.7\n",
    "vert = (sl-slb)/(1.0-slb)\n",
    "vert = np.where(vert < 0.0,0.0, vert)\n",
    "kt = np.zeros((kmax,jmax,imax))\n",
    "for j in range(jmax):\n",
    "    for k in range(kmax):\n",
    "        kt[k,j,:] = ka + (ks - ka)*vert[k]*(coslat[j]**4.0)\n",
    "#\n",
    "cooling_coeffs = dsht(torch.from_numpy(kt))\n",
    "torch.save(cooling_coeffs,outpath+'cooling.spectral_RadiativeEquilibrium.pt')\n",
    "torch.save(kt,outpath+'cooling.ggrid_RadiativeEquilibrium.pt')"
   ]
  },
  {
   "cell_type": "code",
   "execution_count": null,
   "metadata": {},
   "outputs": [],
   "source": [
    "vert"
   ]
  },
  {
   "cell_type": "code",
   "execution_count": null,
   "metadata": {},
   "outputs": [],
   "source": [
    "Lat, Zlev = np.meshgrid(lats, -sl)\n",
    "plt.pcolormesh(Lat, Zlev, kt[:,:,96]*86400, cmap='bwr')\n",
    "plt.colorbar()"
   ]
  },
  {
   "cell_type": "code",
   "execution_count": null,
   "metadata": {},
   "outputs": [],
   "source": []
  }
 ],
 "metadata": {
  "kernelspec": {
   "display_name": "Python 3 (ipykernel)",
   "language": "python",
   "name": "python3"
  },
  "language_info": {
   "codemirror_mode": {
    "name": "ipython",
    "version": 3
   },
   "file_extension": ".py",
   "mimetype": "text/x-python",
   "name": "python",
   "nbconvert_exporter": "python",
   "pygments_lexer": "ipython3",
   "version": "3.12.2"
  },
  "vscode": {
   "interpreter": {
    "hash": "31f2aee4e71d21fbe5cf8b01ff0e069b9275f58929596ceb00d14d90e3e16cd6"
   }
  }
 },
 "nbformat": 4,
 "nbformat_minor": 4
}

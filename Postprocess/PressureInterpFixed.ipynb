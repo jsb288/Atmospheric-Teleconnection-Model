{
 "cells": [
  {
   "cell_type": "code",
   "execution_count": null,
   "metadata": {},
   "outputs": [],
   "source": [
    "import cartopy.crs as ccrs\n",
    "import dask\n",
    "import matplotlib.pyplot as plt\n",
    "import metpy\n",
    "from netCDF4 import Dataset\n",
    "import numpy as np\n",
    "import pandas as pd\n",
    "import scipy as sp\n",
    "import xarray\n",
    "\n",
    "from postprocess_utils import *"
   ]
  },
  {
   "cell_type": "markdown",
   "metadata": {},
   "source": [
    "# Model Variables\n",
    "In the following cell you can set the values of the variables relevant to the model. The details of each variable are included in the README. In most cases it is only necessary to set values for the standard variables. Note that any variable included in the model should be given the same value in the postprocess. For example, if the model used zw = 42 and kmax = 11, you should use zw = 42 and kmax = 11 below."
   ]
  },
  {
   "cell_type": "code",
   "execution_count": null,
   "metadata": {},
   "outputs": [],
   "source": [
    "# Set postprocess parameters.\n",
    "\n",
    "# Standard Variables\n",
    "zw = 42\n",
    "kmax = 11\n",
    "expname = 'Control'\n",
    "DataSetname = 'vvel'\n",
    "Dataname = 'v'\n",
    "dayst = 30\n",
    "\n",
    "# Advanced Variables\n",
    "imax = None\n",
    "jmax = None\n",
    "custom_path = None\n",
    "custom_kmax = None"
   ]
  },
  {
   "cell_type": "code",
   "execution_count": null,
   "metadata": {},
   "outputs": [],
   "source": [
    "# Set Dependent Variables\n",
    "\n",
    "# Set value of kmax if custom_kmax is used.\n",
    "if not(custom_kmax is None):\n",
    "    kmax = custom_kmax\n",
    "    print(\"Using custom value for kmax:\", kmax)\n",
    "# Otherwise check value for kmax.\n",
    "elif kmax != 11 and kmax != 26:\n",
    "    raise Exception(\n",
    "        \"Unexpected value for kmax.\"\n",
    "        \" Use custom_kmax and note that other values are implementable,\"\n",
    "        \" but the user must modify subs1_utils.py routine bscst.\"\n",
    "        \" If unclear email bkirtman@miami.edu for clarification.\")\n",
    "\n",
    "# Check value for zw.\n",
    "# Afterwards, set jmax and imax values based on the value given to zw.\n",
    "# If a value is already given for one of the listed variables,\n",
    "# use that instead.\n",
    "match zw:\n",
    "    case 42:\n",
    "        jmax = 64 if (jmax is None) else jmax\n",
    "        imax = 128 if (imax is None) else imax\n",
    "    case 63:\n",
    "        jmax = 96 if (jmax is None) else jmax\n",
    "        imax = 192 if (imax is None) else imax\n",
    "    case 124:\n",
    "        jmax = 188 if (jmax is None) else jmax\n",
    "        imax = 376 if (imax is None) else imax\n",
    "    case _:\n",
    "        if (jmax is None) or (imax is None):\n",
    "            raise Exception(\n",
    "                \"Unexpected value for zw. Other values are implementable,\"\n",
    "                \" but the user must specify values for jmax and imax\"\n",
    "                \" in the advanced variables section.\")\n",
    "print(\"zw =\", zw,\n",
    "      \"\\nkmax =\", kmax,\n",
    "      \"\\njmax =\", jmax,\n",
    "      \"\\nimax =\", imax,\n",
    "      \"\\ndayst =\", dayst)"
   ]
  },
  {
   "cell_type": "code",
   "execution_count": null,
   "metadata": {},
   "outputs": [],
   "source": [
    "# Set datapath.\n",
    "datapath = get_model_data_path(custom_path, expname)\n",
    "\n",
    "# Set stamp for file names\n",
    "stamp = 'days_1-' + str(dayst)\n",
    "print(\"stamp =\", stamp)"
   ]
  },
  {
   "cell_type": "code",
   "execution_count": null,
   "metadata": {},
   "outputs": [],
   "source": [
    "fps = datapath + 'lnps_1*.nc' # Always need surface pressure.\n",
    "dps = xarray.open_mfdataset(fps, decode_times=True, parallel=True)\n",
    "\n",
    "fdata = datapath + DataSetname + '_1*.nc'\n",
    "ddata = xarray.open_mfdataset(fdata, decode_times=True, parallel=True)"
   ]
  },
  {
   "cell_type": "code",
   "execution_count": null,
   "metadata": {},
   "outputs": [],
   "source": [
    "fps"
   ]
  },
  {
   "cell_type": "code",
   "execution_count": null,
   "metadata": {},
   "outputs": [],
   "source": [
    "dps"
   ]
  },
  {
   "cell_type": "code",
   "execution_count": null,
   "metadata": {},
   "outputs": [],
   "source": [
    "ddata"
   ]
  },
  {
   "cell_type": "code",
   "execution_count": null,
   "metadata": {},
   "outputs": [],
   "source": [
    "# Create Data Array for Control Pressure level Data geopotenial,\n",
    "# temp, u & v.\n",
    "lats = ddata['lat'].values\n",
    "lons = ddata['lon'].values\n",
    "plev = [1000.0, 900.0, 800.0, 700.0, 600.0, 500.0, 400.0, 300.0, 200.0, 100.0,\n",
    "        20.0]\n",
    "plev_r = np.zeros(11)\n",
    "for k in range(11):\n",
    "    plev_r[k] = (plev[k]) * 100.0 # mb to Pa\n",
    "\n",
    "# \"11\" here corresponds to standard pressure levels not to model levels.\n",
    "dout = np.zeros((dayst, 11, jmax, imax))\n",
    "pressure = np.zeros((kmax, jmax, imax))\n",
    "siglevs = ddata['lev']\n",
    "for k in range (dayst):\n",
    "    vv = ddata[Dataname][k, :, :, :]\n",
    "    ps = dps.lnps[k, :, :]\n",
    "    surfp = (np.exp(ps)) * 1000.0 * 100.0 # in Pa\n",
    "    for kk in range(kmax):\n",
    "        pressure[kk, :, :] = surfp[:, :] * siglevs[kk]\n",
    "    vv = vv.compute()\n",
    "    ps = ps.compute()\n",
    "    dout[k] = metpy.interpolate.log_interpolate_1d(\n",
    "        plev_r, pressure, vv, axis=0)\n",
    "\n",
    "times = ddata['time']\n",
    "dData = xarray.Dataset(\n",
    "    {Dataname: (['time', 'lev', 'lat', 'lon'], dout)},\n",
    "    coords={'time': times, 'lev': plev, 'lat': lats, 'lon': lons})"
   ]
  },
  {
   "cell_type": "code",
   "execution_count": null,
   "metadata": {},
   "outputs": [],
   "source": [
    "dData"
   ]
  },
  {
   "cell_type": "code",
   "execution_count": null,
   "metadata": {},
   "outputs": [],
   "source": [
    "dData.to_netcdf(datapath+DataSetname + '_Pressure_' + stamp + '.nc')"
   ]
  },
  {
   "cell_type": "code",
   "execution_count": null,
   "metadata": {},
   "outputs": [],
   "source": [
    "dData[Dataname][dayst-1, 0, :, :].plot()"
   ]
  },
  {
   "cell_type": "code",
   "execution_count": null,
   "metadata": {},
   "outputs": [],
   "source": [
    "dData[Dataname][dayst-1, 7, :, :].plot()"
   ]
  },
  {
   "cell_type": "code",
   "execution_count": null,
   "metadata": {},
   "outputs": [],
   "source": [
    "dData[Dataname][dayst-1, :, 45, 64].plot()"
   ]
  }
 ],
 "metadata": {
  "kernelspec": {
   "display_name": "agcm_environment",
   "language": "python",
   "name": "python3"
  },
  "language_info": {
   "codemirror_mode": {
    "name": "ipython",
    "version": 3
   },
   "file_extension": ".py",
   "mimetype": "text/x-python",
   "name": "python",
   "nbconvert_exporter": "python",
   "pygments_lexer": "ipython3",
   "version": "3.12.5"
  }
 },
 "nbformat": 4,
 "nbformat_minor": 2
}

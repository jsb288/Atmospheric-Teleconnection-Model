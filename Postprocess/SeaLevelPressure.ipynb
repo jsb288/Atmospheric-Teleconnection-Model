{
 "cells": [
  {
   "cell_type": "code",
   "execution_count": null,
   "metadata": {},
   "outputs": [],
   "source": [
    "import cartopy.crs as ccrs\n",
    "import dask\n",
    "import matplotlib.pyplot as plt\n",
    "from netCDF4 import Dataset\n",
    "import numpy as np\n",
    "import pandas as pd\n",
    "import scipy as sp\n",
    "import torch\n",
    "import torch_harmonics as th\n",
    "import torch_harmonics.distributed as dist\n",
    "import xarray\n",
    "\n",
    "from postprocess_utils import *\n",
    "from subs1_utils import precompute_latitudes"
   ]
  },
  {
   "cell_type": "markdown",
   "metadata": {},
   "source": [
    "# Model Variables\n",
    "In the following cell you can set the values of the variables relevant to the model. The details of each variable are included in the README. In most cases it is only necessary to set values for the standard variables. Note that any variable included in the model should be given the same value in the postprocess. For example, if the model used zw = 42 and kmax = 11, you should use zw = 42 and kmax = 11 below."
   ]
  },
  {
   "cell_type": "code",
   "execution_count": null,
   "metadata": {},
   "outputs": [],
   "source": [
    "# Set postprocess parameters.\n",
    "\n",
    "# Standard Variables\n",
    "zw = 63\n",
    "expname = 'GammaT63L26_WarmPacOnly'\n",
    "Topogdir = '/home/bkirtman/Work/Python/Scripts/AGCM/T63L26/InteractiveRainfall/'\n",
    "dayst = 10800\n",
    "\n",
    "# Advanced Variables\n",
    "mw = None\n",
    "imax = None\n",
    "jmax = None\n",
    "custom_path = None"
   ]
  },
  {
   "cell_type": "code",
   "execution_count": null,
   "metadata": {},
   "outputs": [],
   "source": [
    "# Set Dependent Variables\n",
    "\n",
    "# Check value for zw.\n",
    "# Afterwards, set jmax and imax values based on the value given to zw.\n",
    "# If a value is already given for one of the listed variables, use that instead\n",
    "match zw:\n",
    "    case 42:\n",
    "        jmax = 64 if (jmax is None) else jmax\n",
    "        imax = 128 if (imax is None) else imax\n",
    "    case 63:\n",
    "        jmax = 96 if (jmax is None) else jmax\n",
    "        imax = 192 if (imax is None) else imax\n",
    "    case 124:\n",
    "        jmax = 188 if (jmax is None) else jmax\n",
    "        imax = 376 if (imax is None) else imax\n",
    "    case _:\n",
    "        if (jmax is None) or (imax is None):\n",
    "            raise Exception(\"Unexpected value for zw. Other values are implementable, but the user must specify values for jmax and imax in the advanced variables section.\")\n",
    "\n",
    "print(\"zw =\", zw,\n",
    "      \"\\njmax =\", jmax,\n",
    "      \"\\nimax =\", imax,\n",
    "      \"\\ndayst =\", dayst)"
   ]
  },
  {
   "cell_type": "code",
   "execution_count": null,
   "metadata": {},
   "outputs": [],
   "source": [
    "# Set datapath.\n",
    "datapath = get_model_data_path(custom_path, expname)\n",
    "\n",
    "# Set stamp for file names\n",
    "stamp = 'days_1-' + str(dayst)\n",
    "print(\"stamp =\", stamp)"
   ]
  },
  {
   "cell_type": "code",
   "execution_count": null,
   "metadata": {},
   "outputs": [],
   "source": [
    "#\n",
    "fps = datapath+'lnps_1*.nc' \n",
    "dps = xarray.open_mfdataset(fps,decode_times=True,parallel = True)\n",
    "#"
   ]
  },
  {
   "cell_type": "code",
   "execution_count": null,
   "metadata": {},
   "outputs": [],
   "source": [
    "dps"
   ]
  },
  {
   "cell_type": "code",
   "execution_count": null,
   "metadata": {},
   "outputs": [],
   "source": [
    "# Will need spectral transform topography to make sure we capture\n",
    "# wiggles, so read in spectral topography from specific model simulation directory\n",
    "# and convert to physical space\n",
    "\n",
    "# Get the Gaussian latitudes and equally spaced longitudes\n",
    "cost_lg, wlg, lats = precompute_latitudes(jmax)\n",
    "lats = 90-180*lats/(np.pi)\n",
    "lons = np.linspace(0.0,360.0-360.0/imax,imax)\n",
    "Lon, Lat = np.meshgrid(lons, lats)\n",
    "#\n",
    "# Instantiate grid to spectral (dsht) and spectral to grid (disht) distibuted transforms\n",
    "#\n",
    "disht = dist.DistributedInverseRealSHT(jmax, imax, lmax=mw, mmax=zw, grid=\"legendre-gauss\", csphase=False)\n",
    "#\n",
    "phismn = torch.load(Topogdir+'topog.spectral.pt')\n",
    "phi = disht(phismn)\n",
    "#"
   ]
  },
  {
   "cell_type": "code",
   "execution_count": null,
   "metadata": {},
   "outputs": [],
   "source": [
    "#\n",
    "# Now calculate sea level pressure data use lnps, topography & temperature data\n",
    "# This is a very simple formula - probably better techniques available\n",
    "#\n",
    "ftemp = datapath+'temp_1*.nc'\n",
    "dtemp = xarray.open_mfdataset(ftemp,decode_times=True, parallel=True)\n",
    "#\n",
    "surfp = (np.exp(dps.lnps))*1000.0\n",
    "laps = -0.0065\n",
    "grav = 9.8\n",
    "rgas = 287.04\n",
    "tstar = dtemp.t[:,25,:,:]*(1+laps*(rgas/grav)*(1-dtemp['lev'][25]))\n",
    "yy = -phi.numpy()*laps/(rgas*tstar)\n",
    "slp = surfp * np.exp(phi.numpy()/(rgas*tstar)*(1-yy/2+(yy*yy)/3)) #ECMWF Formula for Sea Level Pressure\n",
    "#\n",
    "#"
   ]
  },
  {
   "cell_type": "code",
   "execution_count": null,
   "metadata": {},
   "outputs": [],
   "source": [
    "slp[500].plot()"
   ]
  },
  {
   "cell_type": "code",
   "execution_count": null,
   "metadata": {},
   "outputs": [],
   "source": [
    "tstar[500].plot()"
   ]
  },
  {
   "cell_type": "code",
   "execution_count": null,
   "metadata": {},
   "outputs": [],
   "source": [
    "times = slp['time']\n",
    "lats = slp['lat']\n",
    "lons = slp['lon']\n",
    "dData = xarray.Dataset({'slp': (['time','lat','lon'],slp.values)},\n",
    "                        coords={'time': times, 'lat': lats, 'lon': lons})\n",
    "dData.to_netcdf(datapath+'sealevelpressure_'+stamp+'.nc')"
   ]
  },
  {
   "cell_type": "code",
   "execution_count": null,
   "metadata": {},
   "outputs": [],
   "source": []
  }
 ],
 "metadata": {
  "kernelspec": {
   "display_name": "agcm_environment",
   "language": "python",
   "name": "python3"
  },
  "language_info": {
   "codemirror_mode": {
    "name": "ipython",
    "version": 3
   },
   "file_extension": ".py",
   "mimetype": "text/x-python",
   "name": "python",
   "nbconvert_exporter": "python",
   "pygments_lexer": "ipython3",
   "version": "3.12.5"
  }
 },
 "nbformat": 4,
 "nbformat_minor": 4
}
